{
 "cells": [
  {
   "cell_type": "markdown",
   "metadata": {},
   "source": [
    "### Automatic File Sorter in File Explorer"
   ]
  },
  {
   "cell_type": "code",
   "execution_count": 129,
   "metadata": {},
   "outputs": [],
   "source": [
    "import os, shutil"
   ]
  },
  {
   "cell_type": "code",
   "execution_count": 130,
   "metadata": {},
   "outputs": [],
   "source": [
    "# User needs to update his file path here\n",
    "file_path = r\"D:/Learning/Data Analyst Projects/Python/Automatic File Sorter/\""
   ]
  },
  {
   "cell_type": "code",
   "execution_count": 131,
   "metadata": {},
   "outputs": [],
   "source": [
    "# Getting the list of files and folders at the user given path\n",
    "file_names = os.listdir(file_path)\n",
    "\n",
    "# Filtering out only the file names\n",
    "file_names = [f for f in file_names if os.path.isfile(file_path+f)]"
   ]
  },
  {
   "cell_type": "code",
   "execution_count": 132,
   "metadata": {},
   "outputs": [],
   "source": [
    "# Mapping each file to its file type using a dictionary\n",
    "file_types = {}\n",
    "distinct_file_types = set()\n",
    "for file_name in file_names:\n",
    "    reverse_file_name = file_name[::-1]\n",
    "    file_type = reverse_file_name[list(reverse_file_name).index('.')::-1]\n",
    "    file_types[file_name] = file_type\n",
    "    distinct_file_types.add(file_type)"
   ]
  },
  {
   "cell_type": "code",
   "execution_count": 133,
   "metadata": {},
   "outputs": [],
   "source": [
    "# Creating folders for the distinct file types if it is not already present\n",
    "for folder_name in distinct_file_types:\n",
    "    if not os.path.exists(file_path + folder_name + ' files'):\n",
    "        os.makedirs(file_path + folder_name + ' files')\n",
    "\n",
    "# Moving the files to their respective folders if it is not moved already\n",
    "for file_name in file_types:\n",
    "    if not os.path.exists(file_path + file_types[file_name] + ' files/' + file_name):\n",
    "        shutil.move(file_path + file_name, file_path + file_types[file_name] + ' files/' + file_name)"
   ]
  }
 ],
 "metadata": {
  "kernelspec": {
   "display_name": "Python 3",
   "language": "python",
   "name": "python3"
  },
  "language_info": {
   "codemirror_mode": {
    "name": "ipython",
    "version": 3
   },
   "file_extension": ".py",
   "mimetype": "text/x-python",
   "name": "python",
   "nbconvert_exporter": "python",
   "pygments_lexer": "ipython3",
   "version": "3.10.0"
  }
 },
 "nbformat": 4,
 "nbformat_minor": 2
}
